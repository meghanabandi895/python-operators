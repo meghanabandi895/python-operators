{
 "cells": [
  {
   "cell_type": "markdown",
   "id": "557ec8ca",
   "metadata": {},
   "source": [
    "# Operators"
   ]
  },
  {
   "cell_type": "markdown",
   "id": "7222129c",
   "metadata": {},
   "source": [
    "To perform some operations between variables and values"
   ]
  },
  {
   "cell_type": "markdown",
   "id": "a1c6adb9",
   "metadata": {},
   "source": [
    "### Types of Operators"
   ]
  },
  {
   "cell_type": "raw",
   "id": "c0b98151",
   "metadata": {},
   "source": [
    "Arthimetic Operator\n",
    "Assignment Operator\n",
    "Logical Operator\n",
    "Comparision Operator\n",
    "Identity Operator\n",
    "Membership Operator\n",
    "Bitwise Operator"
   ]
  },
  {
   "cell_type": "markdown",
   "id": "de4a5705",
   "metadata": {},
   "source": [
    "###### Arthimetic Operator"
   ]
  },
  {
   "cell_type": "markdown",
   "id": "3b17a639",
   "metadata": {},
   "source": [
    "Arithmetic operators are used with numeric values to perform common mathematical operations"
   ]
  },
  {
   "cell_type": "raw",
   "id": "84af899b",
   "metadata": {},
   "source": [
    "Operator\tName\t        Example\t\n",
    "+\t      Addition\t        x + y\t\n",
    "-\t      Subtraction\t    x - y\t\n",
    "*\t      Multiplication    x * y\t\n",
    "/\t      Division\t        x / y\t\n",
    "%\t      Modulus\t        x % y\t\n",
    "**\t      Exponentiation\tx ** y\t\n",
    "//\t      Floor division\tx // y"
   ]
  },
  {
   "cell_type": "code",
   "execution_count": 2,
   "id": "9f56b33f",
   "metadata": {},
   "outputs": [
    {
     "name": "stdout",
     "output_type": "stream",
     "text": [
      "17\n",
      "-1\n",
      "72\n",
      "0.8888888888888888\n",
      "8\n",
      "134217728\n",
      "0\n"
     ]
    }
   ],
   "source": [
    "a = 8\n",
    "b = 9\n",
    "\n",
    "#Addition\n",
    "c = a + b\n",
    "print(c)\n",
    "\n",
    "#subtraction\n",
    "d = a - b\n",
    "print(d)\n",
    "\n",
    "#Multiplication\n",
    "e = a * b\n",
    "print(e)\n",
    "\n",
    "#Division\n",
    "f = a / b\n",
    "print(f)\n",
    "\n",
    "#Modulus\n",
    "g = a % b\n",
    "print(g)\n",
    "\n",
    "#Exponentiation\n",
    "h = a ** b\n",
    "print(h)\n",
    "\n",
    "#Floor Division\n",
    "i = a // b\n",
    "print(i)"
   ]
  },
  {
   "cell_type": "markdown",
   "id": "4eb2682e",
   "metadata": {},
   "source": [
    "###### Assignment Operator"
   ]
  },
  {
   "cell_type": "markdown",
   "id": "dad393e9",
   "metadata": {},
   "source": [
    "Assignment operators are used to assign values to variables"
   ]
  },
  {
   "cell_type": "raw",
   "id": "548dc76b",
   "metadata": {},
   "source": [
    "Operator\tExample\tSame As\t\n",
    "=\t       x = 5\tx = 5\t\n",
    "+=\t       x += 3\tx = x + 3\t\n",
    "-=\t       x -= 3\tx = x - 3\t\n",
    "*=\t       x *= 3\tx = x * 3\t\n",
    "/=\t       x /= 3\tx = x / 3\t\n",
    "%=\t       x %= 3\tx = x % 3\t\n",
    "//=\t       x //= 3\tx = x // 3\t\n",
    "**=\t       x **= 3\tx = x ** 3"
   ]
  },
  {
   "cell_type": "code",
   "execution_count": 5,
   "id": "4952cb60",
   "metadata": {},
   "outputs": [
    {
     "name": "stdout",
     "output_type": "stream",
     "text": [
      "5\n",
      "14\n"
     ]
    }
   ],
   "source": [
    "a = 5\n",
    "b = 9\n",
    "\n",
    "#Assignment\n",
    "print(a)\n",
    "\n",
    "#Addition Assignment\n",
    "a = a+b\n",
    "print(a)"
   ]
  },
  {
   "cell_type": "code",
   "execution_count": 6,
   "id": "bcbf76b7",
   "metadata": {},
   "outputs": [
    {
     "name": "stdout",
     "output_type": "stream",
     "text": [
      "-15\n"
     ]
    }
   ],
   "source": [
    "#subtraction Assignment\n",
    "a = 12\n",
    "b = 27\n",
    "a = a-b\n",
    "print(a)"
   ]
  },
  {
   "cell_type": "code",
   "execution_count": 7,
   "id": "71e73685",
   "metadata": {},
   "outputs": [
    {
     "name": "stdout",
     "output_type": "stream",
     "text": [
      "72\n"
     ]
    }
   ],
   "source": [
    "#Multiplication Assignment\n",
    "a = 9\n",
    "b = 8\n",
    "a = a*b\n",
    "print(a)"
   ]
  },
  {
   "cell_type": "code",
   "execution_count": 8,
   "id": "2e9882b2",
   "metadata": {},
   "outputs": [
    {
     "name": "stdout",
     "output_type": "stream",
     "text": [
      "1.125\n"
     ]
    }
   ],
   "source": [
    "#Division assignment\n",
    "a = 9\n",
    "b = 8\n",
    "a = a/b\n",
    "print(a)"
   ]
  },
  {
   "cell_type": "code",
   "execution_count": 9,
   "id": "af00b7a2",
   "metadata": {},
   "outputs": [
    {
     "name": "stdout",
     "output_type": "stream",
     "text": [
      "43046721\n"
     ]
    }
   ],
   "source": [
    "#Exponentiation Assignment\n",
    "a = 9\n",
    "b = 8\n",
    "a = a**b\n",
    "print(a)"
   ]
  },
  {
   "cell_type": "code",
   "execution_count": 10,
   "id": "c85d95d3",
   "metadata": {},
   "outputs": [
    {
     "name": "stdout",
     "output_type": "stream",
     "text": [
      "1\n"
     ]
    }
   ],
   "source": [
    "#Floor Division Assignment\n",
    "a = 9\n",
    "b = 8\n",
    "a = a//b\n",
    "print(a)"
   ]
  },
  {
   "cell_type": "code",
   "execution_count": 11,
   "id": "54ab010e",
   "metadata": {},
   "outputs": [
    {
     "name": "stdout",
     "output_type": "stream",
     "text": [
      "1\n"
     ]
    }
   ],
   "source": [
    "#Modulus Assignment\n",
    "a = 9\n",
    "b = 8\n",
    "a = a%b\n",
    "print(a)"
   ]
  },
  {
   "cell_type": "markdown",
   "id": "f2c0ba1e",
   "metadata": {},
   "source": [
    "###### Logical Operators"
   ]
  },
  {
   "cell_type": "markdown",
   "id": "06219bb7",
   "metadata": {},
   "source": [
    "Logical operators are used to combine conditional statements"
   ]
  },
  {
   "cell_type": "raw",
   "id": "5af4c6e8",
   "metadata": {},
   "source": [
    "Operator\tDescription\t                                                    Example\t\n",
    "and \t   Returns True if both statements are true\t                      x < 5 and  x < 10\t\n",
    "or\t       Returns True if one of the statements is true\t              x < 5 or x < 4\t\n",
    "not\t       Reverse the result, returns False if the result is true\tnot   (x < 5 and x < 10)"
   ]
  },
  {
   "cell_type": "code",
   "execution_count": 13,
   "id": "c3548cce",
   "metadata": {},
   "outputs": [
    {
     "name": "stdout",
     "output_type": "stream",
     "text": [
      "True\n"
     ]
    }
   ],
   "source": [
    "x=5\n",
    "\n",
    "#And operator\n",
    "print(x < 10 and x > 2)"
   ]
  },
  {
   "cell_type": "code",
   "execution_count": 15,
   "id": "16aa55fe",
   "metadata": {},
   "outputs": [
    {
     "name": "stdout",
     "output_type": "stream",
     "text": [
      "True\n"
     ]
    }
   ],
   "source": [
    "x = 9\n",
    "\n",
    "#Or operator\n",
    "print(x < 3 or x > 1)"
   ]
  },
  {
   "cell_type": "code",
   "execution_count": 16,
   "id": "ce61533f",
   "metadata": {},
   "outputs": [
    {
     "name": "stdout",
     "output_type": "stream",
     "text": [
      "True\n"
     ]
    }
   ],
   "source": [
    "x = 8\n",
    "\n",
    "#not operator\n",
    "print(not(x < 5))"
   ]
  },
  {
   "cell_type": "markdown",
   "id": "a5ba0775",
   "metadata": {},
   "source": [
    "###### Comparision Operator"
   ]
  },
  {
   "cell_type": "markdown",
   "id": "3a708e7e",
   "metadata": {},
   "source": [
    "Comparison operators are used to compare two values"
   ]
  },
  {
   "cell_type": "raw",
   "id": "ffbd525c",
   "metadata": {},
   "source": [
    "Operator    Name\t                Example\t\n",
    "==\t       Equal\t                x == y\t\n",
    "!=\t       Not equal\t            x != y\t\n",
    ">\t       Greater than\t            x > y\t\n",
    "<\t       Less than\t            x < y\t\n",
    ">=\t       Greater than or equal to\tx >= y\t\n",
    "<=\t       Less than or equal to\tx <= y"
   ]
  },
  {
   "cell_type": "code",
   "execution_count": 18,
   "id": "6b3ce399",
   "metadata": {},
   "outputs": [
    {
     "name": "stdout",
     "output_type": "stream",
     "text": [
      "False\n",
      "True\n",
      "False\n",
      "True\n",
      "False\n",
      "True\n"
     ]
    }
   ],
   "source": [
    "a = 89\n",
    "b = 98\n",
    "\n",
    "#Equal Operator\n",
    "print(a==b)\n",
    "\n",
    "#not equal \n",
    "print(a!=b)\n",
    "\n",
    "#greater than\n",
    "print(a>b)\n",
    "\n",
    "#Less than\n",
    "print(a<b)\n",
    "\n",
    "#greater than or equal to\n",
    "print(a>=b)\n",
    "\n",
    "#less than or equal to\n",
    "print(a<=b)"
   ]
  },
  {
   "cell_type": "markdown",
   "id": "71d8b7dd",
   "metadata": {},
   "source": [
    "###### Identity Operator"
   ]
  },
  {
   "cell_type": "markdown",
   "id": "f1988844",
   "metadata": {},
   "source": [
    "It is used to identify whether the value is present or not"
   ]
  },
  {
   "cell_type": "raw",
   "id": "fe48cc0f",
   "metadata": {},
   "source": [
    "Operator\tDescription\t                                            Example\t\n",
    "is \t        Returns True if both variables are the same object\t    x is y\t\n",
    "is not\t    Returns True if both variables are not the same object\tx is not y"
   ]
  },
  {
   "cell_type": "code",
   "execution_count": 7,
   "id": "ce915b73",
   "metadata": {},
   "outputs": [
    {
     "name": "stdout",
     "output_type": "stream",
     "text": [
      "False\n",
      "True\n"
     ]
    }
   ],
   "source": [
    "a = [\"apple\",\"mango\"]\n",
    "b = [\"guava\",\"grapes\"] \n",
    "c = [\"guava\",\"grapes\"]\n",
    "print(a is c)\n",
    "print(b is not c)"
   ]
  },
  {
   "cell_type": "markdown",
   "id": "f92670d7",
   "metadata": {},
   "source": [
    "###### Membership Operator"
   ]
  },
  {
   "cell_type": "markdown",
   "id": "fc89b316",
   "metadata": {},
   "source": [
    "It is used to test whether a value or variable is found in a sequence or not"
   ]
  },
  {
   "cell_type": "raw",
   "id": "a5aa99bf",
   "metadata": {},
   "source": [
    "Operator\tDescription\t                                                                        Example\t\n",
    "in \t        Returns True if a sequence with the specified value is present in the object\t    x in y\t\n",
    "not in\t    Returns True if a sequence with the specified value is not present in the object\tx not in y"
   ]
  },
  {
   "cell_type": "code",
   "execution_count": 9,
   "id": "00c0d86e",
   "metadata": {},
   "outputs": [
    {
     "name": "stdout",
     "output_type": "stream",
     "text": [
      "True\n",
      "False\n"
     ]
    }
   ],
   "source": [
    "a = [\"mango\",\"guava\"]\n",
    "print(\"mango\" in a)\n",
    "print(\"guava\" not in a)"
   ]
  },
  {
   "cell_type": "markdown",
   "id": "8cec47eb",
   "metadata": {},
   "source": [
    "###### Bitwise Operator"
   ]
  },
  {
   "cell_type": "markdown",
   "id": "f55b233d",
   "metadata": {},
   "source": [
    "Bitwise operators are used to compare (binary) numbers"
   ]
  },
  {
   "cell_type": "raw",
   "id": "de9a47ce",
   "metadata": {},
   "source": [
    "Operator\tName\t                Description\t                                                                        Example\t\n",
    "& \t        AND\t                    Sets each bit to 1 if both bits are 1\t                                             x & y\t\n",
    "|\t        OR\t                    Sets each bit to 1 if one of two bits is 1\t                                         x | y\t\n",
    "^\t        XOR\t                    Sets each bit to 1 if only one of two bits is 1                                    \t x ^ y\t\n",
    "~\t        NOT\t                    Inverts all the bits\t                                                             ~x\t\n",
    "<<\t        Zero fill left shift\tShift left by pushing zeros in from the right and let the leftmost bits fall off\t x << 2\t\n",
    ">>\t        Signed right shift\t    Shift right by pushing copies of the leftmost bit in from the left, and let the\n",
    "                                    rightmost bits fall off                                                                                                      \t                                                                                     x >> 2"
   ]
  },
  {
   "cell_type": "code",
   "execution_count": 10,
   "id": "fb6816dd",
   "metadata": {},
   "outputs": [
    {
     "name": "stdout",
     "output_type": "stream",
     "text": [
      "8\n"
     ]
    }
   ],
   "source": [
    "print(8&9)"
   ]
  },
  {
   "cell_type": "code",
   "execution_count": 11,
   "id": "5d1d4c5c",
   "metadata": {},
   "outputs": [
    {
     "name": "stdout",
     "output_type": "stream",
     "text": [
      "9\n"
     ]
    }
   ],
   "source": [
    "print(8|9)"
   ]
  },
  {
   "cell_type": "code",
   "execution_count": 12,
   "id": "7c59efe5",
   "metadata": {},
   "outputs": [
    {
     "name": "stdout",
     "output_type": "stream",
     "text": [
      "1\n"
     ]
    }
   ],
   "source": [
    "print(8^9)"
   ]
  },
  {
   "cell_type": "code",
   "execution_count": 15,
   "id": "74d58fd9",
   "metadata": {},
   "outputs": [
    {
     "name": "stdout",
     "output_type": "stream",
     "text": [
      "-7\n"
     ]
    }
   ],
   "source": [
    "print(~6)"
   ]
  },
  {
   "cell_type": "code",
   "execution_count": 16,
   "id": "5e4a991d",
   "metadata": {},
   "outputs": [
    {
     "name": "stdout",
     "output_type": "stream",
     "text": [
      "288\n"
     ]
    }
   ],
   "source": [
    "print(9<<5)"
   ]
  },
  {
   "cell_type": "code",
   "execution_count": 17,
   "id": "65c5f56e",
   "metadata": {},
   "outputs": [
    {
     "name": "stdout",
     "output_type": "stream",
     "text": [
      "0\n"
     ]
    }
   ],
   "source": [
    "print(9>>5)"
   ]
  },
  {
   "cell_type": "code",
   "execution_count": null,
   "id": "6646c663",
   "metadata": {},
   "outputs": [],
   "source": []
  },
  {
   "cell_type": "code",
   "execution_count": null,
   "id": "0248ba4b",
   "metadata": {},
   "outputs": [],
   "source": []
  },
  {
   "cell_type": "code",
   "execution_count": null,
   "id": "a93579e1",
   "metadata": {},
   "outputs": [],
   "source": []
  }
 ],
 "metadata": {
  "kernelspec": {
   "display_name": "Python 3 (ipykernel)",
   "language": "python",
   "name": "python3"
  },
  "language_info": {
   "codemirror_mode": {
    "name": "ipython",
    "version": 3
   },
   "file_extension": ".py",
   "mimetype": "text/x-python",
   "name": "python",
   "nbconvert_exporter": "python",
   "pygments_lexer": "ipython3",
   "version": "3.10.9"
  }
 },
 "nbformat": 4,
 "nbformat_minor": 5
}
